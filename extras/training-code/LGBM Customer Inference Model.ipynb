{
 "cells": [
  {
   "cell_type": "code",
   "execution_count": 13,
   "metadata": {},
   "outputs": [],
   "source": [
    "import datarobot as dr\n",
    "\n",
    "import sklearn as sk\n",
    "import pandas as pd\n",
    "import numpy as np\n",
    "from pandasql import sqldf\n",
    "pysqldf = lambda q: sqldf(q, globals())\n",
    "from category_encoders import OrdinalEncoder\n",
    "from sklearn.impute import SimpleImputer\n",
    "from sklearn.model_selection import train_test_split\n",
    "import lightgbm as lgb\n",
    "import yaml\n",
    "import os\n",
    "import pickle"
   ]
  },
  {
   "cell_type": "code",
   "execution_count": 14,
   "metadata": {},
   "outputs": [
    {
     "data": {
      "text/plain": [
       "'0.23.1'"
      ]
     },
     "execution_count": 14,
     "metadata": {},
     "output_type": "execute_result"
    }
   ],
   "source": [
    "sk.__version__"
   ]
  },
  {
   "cell_type": "markdown",
   "metadata": {},
   "source": [
    "## Prep Data\n",
    "\n",
    "Load the data into a `pandas.DataFrame`"
   ]
  },
  {
   "cell_type": "code",
   "execution_count": 15,
   "metadata": {},
   "outputs": [],
   "source": [
    "data = pd.read_csv(\"../../data/loss_cost_demo.csv\")\n",
    "data_dict = pd.read_csv(\"../../data/var_list.csv\")"
   ]
  },
  {
   "cell_type": "code",
   "execution_count": 16,
   "metadata": {},
   "outputs": [],
   "source": [
    "with open(\"../../feature-info/feature_detail.yaml\", \"r\") as f:\n",
    "    feature_type_dict = yaml.load(f, Loader=yaml.FullLoader)"
   ]
  },
  {
   "cell_type": "code",
   "execution_count": 17,
   "metadata": {},
   "outputs": [
    {
     "data": {
      "text/plain": [
       "{'Categorical': ['DistributionChannel',\n",
       "  'VehicleModel',\n",
       "  'Zipcode',\n",
       "  'VehicleMake',\n",
       "  'ClientType',\n",
       "  'MaritalStatus'],\n",
       " 'Date': 'None',\n",
       " 'Numeric': ['CustomerTenure',\n",
       "  'DriverAge',\n",
       "  'EngineCapacity',\n",
       "  'NumberOfDrivers',\n",
       "  'VehicleAge',\n",
       "  'VehicleCostNew',\n",
       "  'Zipcode_Aged_18_24',\n",
       "  'Zipcode_Aged_25_29',\n",
       "  'Zipcode_Aged_30_39',\n",
       "  'Zipcode_Aged_40_44',\n",
       "  'Zipcode_Aged_45_49',\n",
       "  'Zipcode_Aged_50_59',\n",
       "  'Zipcode_Aged_60',\n",
       "  'Zipcode_CommuteViaCar',\n",
       "  'Zipcode_PersonsPerHousehold',\n",
       "  'Zipcode_VehiclesPerHousehold',\n",
       "  'Zipcode_annualMileage'],\n",
       " 'Offset': 'Exposure',\n",
       " 'Target': 'IncurredClaims',\n",
       " 'Text': 'None'}"
      ]
     },
     "execution_count": 17,
     "metadata": {},
     "output_type": "execute_result"
    }
   ],
   "source": [
    "feature_type_dict"
   ]
  },
  {
   "cell_type": "code",
   "execution_count": 18,
   "metadata": {},
   "outputs": [],
   "source": [
    "numeric_features = feature_type_dict[\"Numeric\"]\n",
    "categorical_features = feature_type_dict[\"Categorical\"]\n",
    "\n",
    "ordinalEncoder = OrdinalEncoder()\n",
    "simpleImputerCat = SimpleImputer(strategy='constant', fill_value=\"-9999\")\n",
    "simpleImputerNum = SimpleImputer(strategy='constant', fill_value= -9999 )\n",
    "\n",
    "x_num = data[numeric_features]\n",
    "x_num = simpleImputerNum.fit_transform(x_num)\n",
    "x_cat = data[categorical_features]\n",
    "x_cat = simpleImputerCat.fit_transform(x_cat)\n",
    "x_cat = ordinalEncoder.fit_transform(x_cat)\n",
    "\n",
    "offset = np.log(data[[feature_type_dict[\"Offset\"]]].values)\n",
    "\n",
    "x = np.concatenate([x_cat, x_num, offset], axis=1)\n",
    "\n",
    "y = data[feature_type_dict[\"Target\"]].values\n",
    "X_train, X_test, y_train, y_test = train_test_split(x, y, test_size=0.33, random_state=42)\n",
    "offset_train = X_train[:, -1]\n",
    "offset_test = X_test[:, -1]\n",
    "X_train = X_train[:, 0:-1]\n",
    "X_test = X_test[:, 0:-1]\n"
   ]
  },
  {
   "cell_type": "code",
   "execution_count": 19,
   "metadata": {},
   "outputs": [
    {
     "data": {
      "text/plain": [
       "17"
      ]
     },
     "execution_count": 19,
     "metadata": {},
     "output_type": "execute_result"
    }
   ],
   "source": [
    "simpleImputerNum.n_features_in_"
   ]
  },
  {
   "cell_type": "code",
   "execution_count": 20,
   "metadata": {},
   "outputs": [
    {
     "name": "stderr",
     "output_type": "stream",
     "text": [
      "/Users/timothy.whittaker/notebook/lib/python3.7/site-packages/lightgbm/basic.py:253: UserWarning: Usage of np.ndarray subset (sliced data) is not recommended due to it will double the peak memory cost in LightGBM.\n",
      "  warnings.warn(\"Usage of np.ndarray subset (sliced data) is not recommended \"\n"
     ]
    }
   ],
   "source": [
    "model = lgb.LGBMRegressor(objective=\"tweedie\", learning_rate= 0.08)\n",
    "\n",
    "fit = model.fit(X_train, y_train, init_score = offset_train, eval_init_score = [offset_test], eval_set=(X_test, y_test), verbose=False)"
   ]
  },
  {
   "cell_type": "code",
   "execution_count": 21,
   "metadata": {},
   "outputs": [],
   "source": [
    "yhat = np.exp(fit.predict(X_test, raw_score = True) + offset_test)"
   ]
  },
  {
   "cell_type": "code",
   "execution_count": 22,
   "metadata": {},
   "outputs": [],
   "source": [
    "check = pd.DataFrame([y_test, yhat]).T\n",
    "check.columns = [\"y\", \"yhat\"]\n",
    "check[\"rank\"] = np.ceil(check[\"yhat\"].rank(pct=True)*10)"
   ]
  },
  {
   "cell_type": "code",
   "execution_count": 23,
   "metadata": {},
   "outputs": [
    {
     "data": {
      "text/plain": [
       "<AxesSubplot:xlabel='rank'>"
      ]
     },
     "execution_count": 23,
     "metadata": {},
     "output_type": "execute_result"
    },
    {
     "data": {
      "image/png": "[encoded data removed]",
      "text/plain": [
       "<Figure size 432x288 with 1 Axes>"
      ]
     },
     "metadata": {
      "needs_background": "light"
     },
     "output_type": "display_data"
    }
   ],
   "source": [
    "%matplotlib inline\n",
    "check.groupby(\"rank\").mean().plot()"
   ]
  },
  {
   "cell_type": "code",
   "execution_count": 24,
   "metadata": {},
   "outputs": [],
   "source": [
    "from joblib import dump, load\n",
    "with open('../../model-objects/ordinalEncoder.joblib', \"wb\") as f:\n",
    "    dump(ordinalEncoder, f) \n",
    "with open('../../model-objects/simpleImputerCat.joblib', \"wb\") as f:\n",
    "    dump(simpleImputerCat, f) \n",
    "with open('../../model-objects/simpleImputerNum.joblib', \"wb\") as f:\n",
    "    dump(simpleImputerNum, f) \n",
    "with open('../../model-objects/lgbm.joblib', \"wb\") as f:\n",
    "    dump(fit, f)"
   ]
  },
  {
   "cell_type": "code",
   "execution_count": null,
   "metadata": {},
   "outputs": [],
   "source": []
  }
 ],
 "metadata": {
  "kernelspec": {
   "display_name": "Python 3",
   "language": "python",
   "name": "python3"
  },
  "language_info": {
   "codemirror_mode": {
    "name": "ipython",
    "version": 3
   },
   "file_extension": ".py",
   "mimetype": "text/x-python",
   "name": "python",
   "nbconvert_exporter": "python",
   "pygments_lexer": "ipython3",
   "version": "3.7.7"
  },
  "toc": {
   "base_numbering": 1,
   "nav_menu": {},
   "number_sections": false,
   "sideBar": false,
   "skip_h1_title": false,
   "title_cell": "Table of Contents",
   "title_sidebar": "Contents",
   "toc_cell": false,
   "toc_position": {},
   "toc_section_display": false,
   "toc_window_display": false
  }
 },
 "nbformat": 4,
 "nbformat_minor": 2
}
