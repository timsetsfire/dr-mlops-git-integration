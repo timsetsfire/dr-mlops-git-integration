{
 "cells": [
  {
   "cell_type": "markdown",
   "metadata": {},
   "source": [
    "Run \n",
    "```\n",
    "drum server --code-dir ./model-v2 --target-type unstructured --address localhost:6789 --verbose\n",
    "```"
   ]
  },
  {
   "cell_type": "code",
   "execution_count": 17,
   "metadata": {},
   "outputs": [],
   "source": [
    "import io\n",
    "import requests\n",
    "import avro.io\n",
    "import avro\n",
    "from avro.datafile import DataFileReader\n",
    "import subprocess"
   ]
  },
  {
   "cell_type": "code",
   "execution_count": 30,
   "metadata": {},
   "outputs": [
    {
     "data": {
      "text/plain": [
       "b'{\"message\":\"OK\"}\\n'"
      ]
     },
     "execution_count": 30,
     "metadata": {},
     "output_type": "execute_result"
    }
   ],
   "source": [
    "requests.request(\"GET\", \"http://localhost:6789/\").content"
   ]
  },
  {
   "cell_type": "code",
   "execution_count": 31,
   "metadata": {
    "scrolled": false
   },
   "outputs": [],
   "source": [
    "csv_in_bytes = open(\"./extras/training-code/loss_cost_short.csv\", \"rb\").read()"
   ]
  },
  {
   "cell_type": "code",
   "execution_count": 32,
   "metadata": {},
   "outputs": [],
   "source": [
    "import requests\n",
    "\n",
    "url = \"http://localhost:6789/predictUnstructured/?ret_mode=binary\"\n",
    "\n",
    "payload = csv_in_bytes\n",
    "headers = {\n",
    "  'Content-Type': 'application/octet-stream'\n",
    "}\n",
    "\n",
    "response = requests.request(\"POST\", url, headers=headers, data = payload)\n",
    "\n",
    "return_bytes = response.content"
   ]
  },
  {
   "cell_type": "code",
   "execution_count": 33,
   "metadata": {},
   "outputs": [
    {
     "data": {
      "text/plain": [
       "SHAP_CustomerTenure                    -0.009229\n",
       "SHAP_DriverAge                         -0.067060\n",
       "SHAP_EngineCapacity                    -0.126928\n",
       "SHAP_NumberOfDrivers                   -0.210533\n",
       "SHAP_VehicleAge                        -0.002556\n",
       "SHAP_VehicleCostNew                    -0.007075\n",
       "SHAP_Zipcode_Aged_18_24                -0.021351\n",
       "SHAP_Zipcode_Aged_25_29                -0.006317\n",
       "SHAP_Zipcode_Aged_30_39                 0.009671\n",
       "SHAP_Zipcode_Aged_40_44                -0.003087\n",
       "SHAP_Zipcode_Aged_45_49                -0.286157\n",
       "SHAP_Zipcode_Aged_50_59                -0.050674\n",
       "SHAP_Zipcode_Aged_60                    0.100407\n",
       "SHAP_Zipcode_CommuteViaCar              0.497439\n",
       "SHAP_Zipcode_PersonsPerHousehold        0.001143\n",
       "SHAP_Zipcode_VehiclesPerHousehold       0.030764\n",
       "SHAP_Zipcode_annualMileage             -0.006449\n",
       "SHAP_DistributionChannel               -0.008335\n",
       "SHAP_VehicleModel                       0.068915\n",
       "SHAP_Zipcode                           -0.001565\n",
       "SHAP_VehicleMake                       -0.009019\n",
       "SHAP_ClientType                         0.000041\n",
       "SHAP_MaritalStatus                     -0.174615\n",
       "prediction                           2493.327881\n",
       "Name: 0, dtype: float64"
      ]
     },
     "execution_count": 33,
     "metadata": {},
     "output_type": "execute_result"
    }
   ],
   "source": [
    "schema = avro.schema.parse(open(\"./model-v2/schema.avsc\", \"rb\").read())\n",
    "bytes_reader = io.BytesIO(return_bytes)\n",
    "datum_reader = avro.io.DatumReader(schema)\n",
    "returned_data = DataFileReader(bytes_reader, avro.io.DatumReader())\n",
    "predictions = []  \n",
    "for pred in returned_data:\n",
    "    temp = pred[\"shap_values\"]\n",
    "    temp[\"prediction\"] = pred[\"prediction\"]\n",
    "    predictions.append(temp)\n",
    "pd.DataFrame(predictions).iloc[0]"
   ]
  },
  {
   "cell_type": "code",
   "execution_count": null,
   "metadata": {},
   "outputs": [],
   "source": []
  }
 ],
 "metadata": {
  "kernelspec": {
   "display_name": "Python 3",
   "language": "python",
   "name": "python3"
  },
  "language_info": {
   "codemirror_mode": {
    "name": "ipython",
    "version": 3
   },
   "file_extension": ".py",
   "mimetype": "text/x-python",
   "name": "python",
   "nbconvert_exporter": "python",
   "pygments_lexer": "ipython3",
   "version": "3.7.7"
  }
 },
 "nbformat": 4,
 "nbformat_minor": 4
}
